{
 "cells": [
  {
   "cell_type": "markdown",
   "metadata": {},
   "source": [
    "# Example of Dataflow pipeline\n",
    "\n",
    "This notebooks shows how you can use Dataflow to do distributed data processing.\n",
    "In this case, the processing involves computing a statistical fit, something that is hard to do in SQL,\n",
    "but quite straightforward in Python."
   ]
  },
  {
   "cell_type": "code",
   "execution_count": null,
   "metadata": {},
   "outputs": [],
   "source": [
    "%%bash\n",
    "conda uninstall pytz dill"
   ]
  },
  {
   "cell_type": "code",
   "execution_count": 5,
   "metadata": {},
   "outputs": [
    {
     "name": "stdout",
     "output_type": "stream",
     "text": [
      "Collecting apache-beam\n",
      "  Using cached https://files.pythonhosted.org/packages/cf/d5/bd533f864219da7251be3497e622f45f1ac56b1ee2eaa1b601b6b222044f/apache_beam-2.11.0-cp27-cp27mu-manylinux1_x86_64.whl\n",
      "Requirement already satisfied, skipping upgrade: avro<2.0.0,>=1.8.1; python_version < \"3.0\" in /usr/local/envs/py2env/lib/python2.7/site-packages (from apache-beam) (1.8.2)\n",
      "Requirement already satisfied, skipping upgrade: pydot<1.3,>=1.2.0 in /usr/local/envs/py2env/lib/python2.7/site-packages (from apache-beam) (1.2.4)\n",
      "Collecting dill<0.2.10,>=0.2.9 (from apache-beam)\n",
      "Requirement already satisfied, skipping upgrade: pyyaml<4.0.0,>=3.12 in /usr/local/envs/py2env/lib/python2.7/site-packages (from apache-beam) (3.13)\n",
      "Collecting pyarrow<0.12.0,>=0.11.1; python_version >= \"3.0\" or platform_system != \"Windows\" (from apache-beam)\n",
      "  Using cached https://files.pythonhosted.org/packages/34/65/a3cd43e1834a748d9650e962ce43083063bf0c778e634d6ae5ca6e62438c/pyarrow-0.11.1-cp27-cp27mu-manylinux1_x86_64.whl\n",
      "Requirement already satisfied, skipping upgrade: pytz>=2018.3 in /usr/local/envs/py2env/lib/python2.7/site-packages (from apache-beam) (2018.4)\n",
      "Collecting typing<3.7.0,>=3.6.0; python_version < \"3.5.0\" (from apache-beam)\n",
      "  Using cached https://files.pythonhosted.org/packages/cc/3e/29f92b7aeda5b078c86d14f550bf85cff809042e3429ace7af6193c3bc9f/typing-3.6.6-py2-none-any.whl\n",
      "Collecting pyvcf<0.7.0,>=0.6.8; python_version < \"3.0\" (from apache-beam)\n",
      "Requirement already satisfied, skipping upgrade: oauth2client<4,>=2.0.1 in /usr/local/envs/py2env/lib/python2.7/site-packages (from apache-beam) (2.2.0)\n",
      "Requirement already satisfied, skipping upgrade: future<1.0.0,>=0.16.0 in /usr/local/envs/py2env/lib/python2.7/site-packages (from apache-beam) (0.16.0)\n",
      "Requirement already satisfied, skipping upgrade: crcmod<2.0,>=1.7 in /usr/local/envs/py2env/lib/python2.7/site-packages (from apache-beam) (1.7)\n",
      "Collecting fastavro<0.22,>=0.21.4 (from apache-beam)\n",
      "  Using cached https://files.pythonhosted.org/packages/67/69/be1402c904506a5ec79ba65c7f0035342d506d5305cfd9ae8bc6f1c8db47/fastavro-0.21.19-cp27-cp27mu-manylinux1_x86_64.whl\n",
      "Collecting httplib2<=0.11.3,>=0.8 (from apache-beam)\n",
      "Requirement already satisfied, skipping upgrade: futures<4.0.0,>=3.2.0; python_version < \"3.0\" in /usr/local/envs/py2env/lib/python2.7/site-packages (from apache-beam) (3.2.0)\n",
      "Requirement already satisfied, skipping upgrade: grpcio<2,>=1.8 in /usr/local/envs/py2env/lib/python2.7/site-packages (from apache-beam) (1.17.1)\n",
      "Requirement already satisfied, skipping upgrade: mock<3.0.0,>=1.0.1 in /usr/local/envs/py2env/lib/python2.7/site-packages (from apache-beam) (2.0.0)\n",
      "Requirement already satisfied, skipping upgrade: protobuf<4,>=3.5.0.post1 in /usr/local/envs/py2env/lib/python2.7/site-packages (from apache-beam) (3.6.1)\n",
      "Collecting hdfs<3.0.0,>=2.1.0 (from apache-beam)\n",
      "Requirement already satisfied, skipping upgrade: pyparsing>=2.1.4 in /usr/local/envs/py2env/lib/python2.7/site-packages (from pydot<1.3,>=1.2.0->apache-beam) (2.3.0)\n",
      "Requirement already satisfied, skipping upgrade: six>=1.0.0 in /usr/local/envs/py2env/lib/python2.7/site-packages (from pyarrow<0.12.0,>=0.11.1; python_version >= \"3.0\" or platform_system != \"Windows\"->apache-beam) (1.10.0)\n",
      "Requirement already satisfied, skipping upgrade: numpy>=1.14 in /usr/local/envs/py2env/lib/python2.7/site-packages (from pyarrow<0.12.0,>=0.11.1; python_version >= \"3.0\" or platform_system != \"Windows\"->apache-beam) (1.14.0)\n",
      "Requirement already satisfied, skipping upgrade: setuptools in /usr/local/envs/py2env/lib/python2.7/site-packages (from pyvcf<0.7.0,>=0.6.8; python_version < \"3.0\"->apache-beam) (40.6.3)\n",
      "Requirement already satisfied, skipping upgrade: pyasn1>=0.1.7 in /usr/local/envs/py2env/lib/python2.7/site-packages (from oauth2client<4,>=2.0.1->apache-beam) (0.4.4)\n",
      "Requirement already satisfied, skipping upgrade: pyasn1-modules>=0.0.5 in /usr/local/envs/py2env/lib/python2.7/site-packages (from oauth2client<4,>=2.0.1->apache-beam) (0.2.2)\n",
      "Requirement already satisfied, skipping upgrade: rsa>=3.1.4 in /usr/local/envs/py2env/lib/python2.7/site-packages (from oauth2client<4,>=2.0.1->apache-beam) (3.4.2)\n",
      "Requirement already satisfied, skipping upgrade: enum34>=1.0.4 in /usr/local/envs/py2env/lib/python2.7/site-packages (from grpcio<2,>=1.8->apache-beam) (1.1.6)\n",
      "Requirement already satisfied, skipping upgrade: funcsigs>=1 in /usr/local/envs/py2env/lib/python2.7/site-packages (from mock<3.0.0,>=1.0.1->apache-beam) (1.0.0)\n",
      "Requirement already satisfied, skipping upgrade: pbr>=0.11 in /usr/local/envs/py2env/lib/python2.7/site-packages (from mock<3.0.0,>=1.0.1->apache-beam) (5.1.1)\n",
      "Requirement already satisfied, skipping upgrade: requests>=2.7.0 in /usr/local/envs/py2env/lib/python2.7/site-packages (from hdfs<3.0.0,>=2.1.0->apache-beam) (2.18.4)\n",
      "Collecting docopt (from hdfs<3.0.0,>=2.1.0->apache-beam)\n",
      "Requirement already satisfied, skipping upgrade: ordereddict in /usr/local/envs/py2env/lib/python2.7/site-packages (from funcsigs>=1->mock<3.0.0,>=1.0.1->apache-beam) (1.1)\n",
      "Requirement already satisfied, skipping upgrade: chardet<3.1.0,>=3.0.2 in /usr/local/envs/py2env/lib/python2.7/site-packages (from requests>=2.7.0->hdfs<3.0.0,>=2.1.0->apache-beam) (3.0.4)\n",
      "Requirement already satisfied, skipping upgrade: idna<2.7,>=2.5 in /usr/local/envs/py2env/lib/python2.7/site-packages (from requests>=2.7.0->hdfs<3.0.0,>=2.1.0->apache-beam) (2.6)\n",
      "Requirement already satisfied, skipping upgrade: urllib3<1.23,>=1.21.1 in /usr/local/envs/py2env/lib/python2.7/site-packages (from requests>=2.7.0->hdfs<3.0.0,>=2.1.0->apache-beam) (1.22)\n",
      "Requirement already satisfied, skipping upgrade: certifi>=2017.4.17 in /usr/local/envs/py2env/lib/python2.7/site-packages (from requests>=2.7.0->hdfs<3.0.0,>=2.1.0->apache-beam) (2018.11.29)\n",
      "\u001b[31mgoogle-cloud-dataflow 2.0.0 has requirement dill==0.2.6, but you'll have dill 0.2.9 which is incompatible.\u001b[0m\n",
      "\u001b[31mgoogle-cloud-dataflow 2.0.0 has requirement httplib2<0.10,>=0.8, but you'll have httplib2 0.11.3 which is incompatible.\u001b[0m\n",
      "\u001b[31mgoogle-cloud-dataflow 2.0.0 has requirement protobuf==3.2.0, but you'll have protobuf 3.6.1 which is incompatible.\u001b[0m\n",
      "\u001b[31mgoogledatastore 7.0.1 has requirement httplib2<0.10,>=0.9.1, but you'll have httplib2 0.11.3 which is incompatible.\u001b[0m\n",
      "Installing collected packages: dill, pyarrow, typing, pyvcf, fastavro, httplib2, docopt, hdfs, apache-beam\n",
      "  Found existing installation: dill 0.2.6\n",
      "\u001b[31mCannot uninstall 'dill'. It is a distutils installed project and thus we cannot accurately determine which files belong to it which would lead to only a partial uninstall.\u001b[0m\n"
     ]
    }
   ],
   "source": [
    "!python -m pip install --upgrade apache-beam 'apache-beam[gcp]'==2.4.0"
   ]
  },
  {
   "cell_type": "markdown",
   "metadata": {},
   "source": [
    "After doing the pip install (above), please restart your kernel."
   ]
  },
  {
   "cell_type": "code",
   "execution_count": 1,
   "metadata": {},
   "outputs": [],
   "source": [
    "# CHANGE THIS to try this notebook out\n",
    "PROJECT='cloud-training-demos' \n",
    "BUCKET='cloud-training-demos-ml'\n",
    "REGION='us-central1'"
   ]
  },
  {
   "cell_type": "markdown",
   "metadata": {},
   "source": [
    "Let's get the duration of all the rides in a station"
   ]
  },
  {
   "cell_type": "code",
   "execution_count": 3,
   "metadata": {},
   "outputs": [
    {
     "name": "stdout",
     "output_type": "stream",
     "text": [
      "            duration\n",
      "count   19112.000000\n",
      "mean     1621.541440\n",
      "std      8781.210736\n",
      "min         0.000000\n",
      "25%       360.000000\n",
      "50%       720.000000\n",
      "75%      1260.000000\n",
      "max    687360.000000\n"
     ]
    }
   ],
   "source": [
    "from google.cloud import bigquery\n",
    "bq = bigquery.Client(project=PROJECT)\n",
    "query = \"\"\"\n",
    "SELECT duration\n",
    "FrOM `bigquery-public-data.london_bicycles.cycle_hire`\n",
    "WHERE start_station_id = 708\n",
    "\"\"\"\n",
    "df = bq.query(query, location='EU').to_dataframe()\n",
    "print(df.describe())"
   ]
  },
  {
   "cell_type": "markdown",
   "metadata": {},
   "source": [
    "Let's plot the distribution of these rides"
   ]
  },
  {
   "cell_type": "code",
   "execution_count": 4,
   "metadata": {},
   "outputs": [
    {
     "data": {
      "image/png": "[encoded data removed]",
      "text/plain": [
       "<Figure size 432x288 with 1 Axes>"
      ]
     },
     "metadata": {},
     "output_type": "display_data"
    }
   ],
   "source": [
    "ax = df.plot.hist(range=[0, 3000], bins=20);"
   ]
  },
  {
   "cell_type": "markdown",
   "metadata": {},
   "source": [
    "Fit to a Gamma distribution"
   ]
  },
  {
   "cell_type": "code",
   "execution_count": 5,
   "metadata": {},
   "outputs": [
    {
     "name": "stdout",
     "output_type": "stream",
     "text": [
      "7.297838862142818e-06 -6.485566100418746e-16 4.234333701782285\n"
     ]
    }
   ],
   "source": [
    "from scipy import stats\n",
    "ag,bg,cg = stats.gamma.fit(df['duration'])\n",
    "print(ag, bg, cg)"
   ]
  },
  {
   "cell_type": "markdown",
   "metadata": {},
   "source": [
    "## The Beam/Dataflow pipeline to do this at scale"
   ]
  },
  {
   "cell_type": "code",
   "execution_count": 3,
   "metadata": {},
   "outputs": [
    {
     "name": "stdout",
     "output_type": "stream",
     "text": [
      "Overwriting requirements.txt\n"
     ]
    }
   ],
   "source": [
    "%%writefile requirements.txt\n",
    "numpy\n",
    "scipy"
   ]
  },
  {
   "cell_type": "code",
   "execution_count": 2,
   "metadata": {},
   "outputs": [
    {
     "name": "stdout",
     "output_type": "stream",
     "text": [
      "Launching local job ... hang on\n"
     ]
    },
    {
     "ename": "AttributeError",
     "evalue": "'module' object has no attribute 'WriteToBigQuery'",
     "output_type": "error",
     "traceback": [
      "\u001b[0;31m\u001b[0m",
      "\u001b[0;31mAttributeError\u001b[0mTraceback (most recent call last)",
      "\u001b[0;32m<ipython-input-2-b938ad1a2e5e>\u001b[0m in \u001b[0;36m<module>\u001b[0;34m()\u001b[0m\n\u001b[1;32m     69\u001b[0m     )\n\u001b[1;32m     70\u001b[0m \u001b[0;34m\u001b[0m\u001b[0m\n\u001b[0;32m---> 71\u001b[0;31m \u001b[0mrun_job\u001b[0m\u001b[0;34m(\u001b[0m\u001b[0;34m)\u001b[0m \u001b[0;31m#in_test_mode = False)\u001b[0m\u001b[0;34m\u001b[0m\u001b[0m\n\u001b[0m",
      "\u001b[0;32m<ipython-input-2-b938ad1a2e5e>\u001b[0m in \u001b[0;36mrun_job\u001b[0;34m(in_test_mode)\u001b[0m\n\u001b[1;32m     65\u001b[0m       \u001b[0;34m|\u001b[0m \u001b[0;34m'read_bq'\u001b[0m \u001b[0;34m>>\u001b[0m \u001b[0mbeam\u001b[0m\u001b[0;34m.\u001b[0m\u001b[0mio\u001b[0m\u001b[0;34m.\u001b[0m\u001b[0mRead\u001b[0m\u001b[0;34m(\u001b[0m\u001b[0mbeam\u001b[0m\u001b[0;34m.\u001b[0m\u001b[0mio\u001b[0m\u001b[0;34m.\u001b[0m\u001b[0mBigQuerySource\u001b[0m\u001b[0;34m(\u001b[0m\u001b[0mquery\u001b[0m\u001b[0;34m=\u001b[0m\u001b[0mquery\u001b[0m\u001b[0;34m)\u001b[0m\u001b[0;34m)\u001b[0m\u001b[0;34m\u001b[0m\u001b[0m\n\u001b[1;32m     66\u001b[0m       \u001b[0;34m|\u001b[0m \u001b[0;34m'compute_fit'\u001b[0m \u001b[0;34m>>\u001b[0m \u001b[0mbeam\u001b[0m\u001b[0;34m.\u001b[0m\u001b[0mFlatMap\u001b[0m\u001b[0;34m(\u001b[0m\u001b[0mcompute_fit\u001b[0m\u001b[0;34m)\u001b[0m\u001b[0;34m\u001b[0m\u001b[0m\n\u001b[0;32m---> 67\u001b[0;31m       | 'write_bq' >> beam.io.gcp.bigquery.WriteToBigQuery(\n\u001b[0m\u001b[1;32m     68\u001b[0m           'ch05.station_stats', schema='station_id:string,ag:FLOAT64,bg:FLOAT64,cg:FLOAT64')\n\u001b[1;32m     69\u001b[0m     )\n",
      "\u001b[0;31mAttributeError\u001b[0m: 'module' object has no attribute 'WriteToBigQuery'"
     ]
    }
   ],
   "source": [
    "import apache_beam as beam\n",
    "import logging\n",
    "import datetime, os\n",
    "\n",
    "def compute_fit(row):\n",
    "  from scipy import stats\n",
    "  result = {}\n",
    "  result['station_id'] = row['station_id']\n",
    "  durations = row['duration_array']\n",
    "  ag, bg, cg = stats.gamma.fit(durations)\n",
    "  result['ag'] = ag\n",
    "  result['bg'] = bg\n",
    "  result['cg'] = cg\n",
    "  yield result\n",
    "\n",
    "def run_job(in_test_mode=True):\n",
    "  import shutil, os, subprocess\n",
    "  job_name = 'computestats' + '-' + datetime.datetime.now().strftime('%y%m%d-%H%M%S')\n",
    "  \n",
    "  if in_test_mode:\n",
    "      print('Launching local job ... hang on')\n",
    "      OUTPUT_DIR = './station_stats'\n",
    "      shutil.rmtree(OUTPUT_DIR, ignore_errors=True)\n",
    "      os.makedirs(OUTPUT_DIR)\n",
    "  else:\n",
    "      print('Launching Dataflow job {} ... hang on'.format(job_name))\n",
    "      OUTPUT_DIR = 'gs://{0}/station_stats'.format(BUCKET)\n",
    "      try:\n",
    "        subprocess.check_call('gsutil -m rm -r {}'.format(OUTPUT_DIR).split())\n",
    "      except:\n",
    "        pass\n",
    "      \n",
    "  options = {\n",
    "      'staging_location': os.path.join(OUTPUT_DIR, 'tmp', 'staging'),\n",
    "      'temp_location': os.path.join(OUTPUT_DIR, 'tmp'),\n",
    "      'job_name': job_name,\n",
    "      'project': PROJECT,\n",
    "      'region': REGION,\n",
    "      'teardown_policy': 'TEARDOWN_ALWAYS',\n",
    "      'no_save_main_session': True,\n",
    "      'requirements_file': 'requirements.txt'\n",
    "  }\n",
    "  opts = beam.pipeline.PipelineOptions(flags = [], **options)\n",
    "  if in_test_mode:\n",
    "      RUNNER = 'DirectRunner'\n",
    "  else:\n",
    "      RUNNER = 'DataflowRunner'\n",
    "  \n",
    "  if in_test_mode:\n",
    "    query = \"\"\"\n",
    "      SELECT start_station_id as station, ARRAY_AGG(duration) AS duration_array\n",
    "      FROM `bigquery-public-data.london_bicycles.cycle_hire`\n",
    "      WHERE start_station_id BETWEEN 700 AND 710\n",
    "      GROUP BY start_station_id\n",
    "      \"\"\"\n",
    "  else:\n",
    "     query = \"\"\"\n",
    "      SELECT start_station_id as station, ARRAY_AGG(duration) AS duration_array\n",
    "      FROM `bigquery-public-data.london_bicycles.cycle_hire`\n",
    "      GROUP BY start_station_id\n",
    "      \"\"\"\n",
    "\n",
    "  with beam.Pipeline(RUNNER, options = opts) as p:\n",
    "    (p \n",
    "      | 'read_bq' >> beam.io.Read(beam.io.BigQuerySource(query=query))\n",
    "      | 'compute_fit' >> beam.FlatMap(compute_fit)\n",
    "      | 'write_bq' >> beam.io.gcp.bigquery.WriteToBigQuery(\n",
    "          'ch05.station_stats', schema='station_id:string,ag:FLOAT64,bg:FLOAT64,cg:FLOAT64')\n",
    "    )\n",
    "    \n",
    "run_job() #in_test_mode = False)"
   ]
  },
  {
   "cell_type": "markdown",
   "metadata": {},
   "source": [
    "Copyright Google Inc. 2019 Licensed under the Apache License, Version 2.0 (the \"License\"); you may not use this file except in compliance with the License. You may obtain a copy of the License at http://www.apache.org/licenses/LICENSE-2.0 Unless required by applicable law or agreed to in writing, software distributed under the License is distributed on an \"AS IS\" BASIS, WITHOUT WARRANTIES OR CONDITIONS OF ANY KIND, either express or implied. See the License for the specific language governing permissions and limitations under the License."
   ]
  }
 ],
 "metadata": {
  "kernelspec": {
   "display_name": "Python 2",
   "language": "python",
   "name": "python2"
  },
  "language_info": {
   "codemirror_mode": {
    "name": "ipython",
    "version": 3
   },
   "file_extension": ".py",
   "mimetype": "text/x-python",
   "name": "python",
   "nbconvert_exporter": "python",
   "pygments_lexer": "ipython3",
   "version": "3.5.6"
  }
 },
 "nbformat": 4,
 "nbformat_minor": 2
}
