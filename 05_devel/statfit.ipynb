{
 "cells": [
  {
   "cell_type": "markdown",
   "metadata": {},
   "source": [
    "# Example of Dataflow pipeline\n",
    "\n",
    "This notebooks shows how you can use Dataflow to do distributed data processing.\n",
    "In this case, the processing involves computing a statistical fit, something that is hard to do in SQL,\n",
    "but quite straightforward in Python."
   ]
  },
  {
   "cell_type": "code",
   "execution_count": null,
   "metadata": {},
   "outputs": [],
   "source": [
    "!pip install google.cloud.bigquery"
   ]
  },
  {
   "cell_type": "code",
   "execution_count": 2,
   "metadata": {},
   "outputs": [],
   "source": [
    "PROJECT='cloud-training-demos'  # CHANGE THIS\n",
    "from google.cloud import bigquery\n",
    "bq = bigquery.Client(project=PROJECT)"
   ]
  },
  {
   "cell_type": "markdown",
   "metadata": {},
   "source": [
    "Let's get the duration of all the rides in a station"
   ]
  },
  {
   "cell_type": "code",
   "execution_count": 3,
   "metadata": {},
   "outputs": [
    {
     "name": "stdout",
     "output_type": "stream",
     "text": [
      "            duration\n",
      "count   19112.000000\n",
      "mean     1621.541440\n",
      "std      8781.210736\n",
      "min         0.000000\n",
      "25%       360.000000\n",
      "50%       720.000000\n",
      "75%      1260.000000\n",
      "max    687360.000000\n"
     ]
    }
   ],
   "source": [
    "query = \"\"\"\n",
    "SELECT duration\n",
    "FrOM `bigquery-public-data.london_bicycles.cycle_hire`\n",
    "WHERE start_station_id = 708\n",
    "\"\"\"\n",
    "df = bq.query(query, location='EU').to_dataframe()\n",
    "print(df.describe())"
   ]
  },
  {
   "cell_type": "markdown",
   "metadata": {},
   "source": [
    "Let's plot the distribution of these rides"
   ]
  },
  {
   "cell_type": "code",
   "execution_count": 4,
   "metadata": {},
   "outputs": [
    {
     "name": "stderr",
     "output_type": "stream",
     "text": [
      "/usr/local/envs/py3env/lib/python3.5/site-packages/matplotlib/font_manager.py:1320: UserWarning: findfont: Font family ['sans-serif'] not found. Falling back to DejaVu Sans\n",
      "  (prop.get_family(), self.defaultFamily[fontext]))\n"
     ]
    },
    {
     "data": {
      "image/png": "[encoded data removed]",
      "text/plain": [
       "<matplotlib.figure.Figure at 0x7f77955006a0>"
      ]
     },
     "metadata": {},
     "output_type": "display_data"
    }
   ],
   "source": [
    "ax = df.plot.hist(range=[0, 3000], bins=20);"
   ]
  },
  {
   "cell_type": "markdown",
   "metadata": {},
   "source": [
    "Fit to a Gamma distribution"
   ]
  },
  {
   "cell_type": "code",
   "execution_count": 5,
   "metadata": {},
   "outputs": [
    {
     "name": "stdout",
     "output_type": "stream",
     "text": [
      "7.297838861844789e-06 -6.485566100418746e-16 4.234333701782285\n"
     ]
    }
   ],
   "source": [
    "from scipy import stats\n",
    "ag,bg,cg = stats.gamma.fit(df['duration'])\n",
    "print(ag, bg, cg)"
   ]
  },
  {
   "cell_type": "markdown",
   "metadata": {},
   "source": [
    "## The pipeline"
   ]
  },
  {
   "cell_type": "code",
   "execution_count": null,
   "metadata": {},
   "outputs": [],
   "source": [
    "!python -m pip install --upgrade 'apache-beam[gcp]' "
   ]
  },
  {
   "cell_type": "code",
   "execution_count": 8,
   "metadata": {},
   "outputs": [
    {
     "name": "stdout",
     "output_type": "stream",
     "text": [
      "Overwriting requirements.txt\n"
     ]
    }
   ],
   "source": [
    "%writefile requirements.txt\n",
    "numpy\n",
    "scipy"
   ]
  },
  {
   "cell_type": "code",
   "execution_count": 9,
   "metadata": {},
   "outputs": [
    {
     "ename": "ImportError",
     "evalue": "No module named 'apache_beam'",
     "output_type": "error",
     "traceback": [
      "\u001b[0;31m---------------------------------------------------------------------------\u001b[0m",
      "\u001b[0;31mImportError\u001b[0m                               Traceback (most recent call last)",
      "\u001b[0;32m<ipython-input-9-9f3779ca49cf>\u001b[0m in \u001b[0;36m<module>\u001b[0;34m()\u001b[0m\n\u001b[0;32m----> 1\u001b[0;31m \u001b[0;32mimport\u001b[0m \u001b[0mapache_beam\u001b[0m \u001b[0;32mas\u001b[0m \u001b[0mbeam\u001b[0m\u001b[0;34m\u001b[0m\u001b[0m\n\u001b[0m\u001b[1;32m      2\u001b[0m \u001b[0;32mimport\u001b[0m \u001b[0mlogging\u001b[0m\u001b[0;34m\u001b[0m\u001b[0m\n\u001b[1;32m      3\u001b[0m \u001b[0;32mimport\u001b[0m \u001b[0mdatetime\u001b[0m\u001b[0;34m,\u001b[0m \u001b[0mos\u001b[0m\u001b[0;34m\u001b[0m\u001b[0m\n\u001b[1;32m      4\u001b[0m \u001b[0;34m\u001b[0m\u001b[0m\n\u001b[1;32m      5\u001b[0m \u001b[0mPROJECT\u001b[0m\u001b[0;34m=\u001b[0m\u001b[0;34m'cloud-training-demos'\u001b[0m\u001b[0;34m\u001b[0m\u001b[0m\n",
      "\u001b[0;31mImportError\u001b[0m: No module named 'apache_beam'"
     ]
    }
   ],
   "source": [
    "import apache_beam as beam\n",
    "import logging\n",
    "import datetime, os\n",
    "\n",
    "PROJECT='cloud-training-demos'\n",
    "BUCKET='cloud-training-demos-ml'\n",
    "REGION='us-central1'\n",
    "\n",
    "def compute_fit(row):\n",
    "  from scipy import stats\n",
    "  result = {}\n",
    "  result['station_id'] = row['station_id']\n",
    "  durations = row['duration_array']\n",
    "  ag, bg, cg = stats.gamma.fit(durations)\n",
    "  result['ag'] = ag\n",
    "  result['bg'] = bg\n",
    "  result['cg'] = cg\n",
    "  return result\n",
    "\n",
    "def run_job(in_test_mode=True):\n",
    "  import shutil, os, subprocess\n",
    "  job_name = 'compute_stats' + '-' + datetime.datetime.now().strftime('%y%m%d-%H%M%S')\n",
    "  \n",
    "  if in_test_mode:\n",
    "      print('Launching local job ... hang on')\n",
    "      OUTPUT_DIR = './station_stats'\n",
    "      shutil.rmtree(OUTPUT_DIR, ignore_errors=True)\n",
    "      os.makedirs(OUTPUT_DIR)\n",
    "  else:\n",
    "      print('Launching Dataflow job {} ... hang on'.format(job_name))\n",
    "      OUTPUT_DIR = 'gs://{0}/station_stats'.format(BUCKET)\n",
    "      try:\n",
    "        subprocess.check_call('gsutil -m rm -r {}'.format(OUTPUT_DIR).split())\n",
    "      except:\n",
    "        pass\n",
    "      \n",
    "  options = {\n",
    "      'staging_location': os.path.join(OUTPUT_DIR, 'tmp', 'staging'),\n",
    "      'temp_location': os.path.join(OUTPUT_DIR, 'tmp'),\n",
    "      'job_name': job_name,\n",
    "      'project': PROJECT,\n",
    "      'region': REGION,\n",
    "      'teardown_policy': 'TEARDOWN_ALWAYS',\n",
    "      'no_save_main_session': True,\n",
    "      'requirements_file': 'requirements.txt'\n",
    "  }\n",
    "  opts = beam.pipeline.PipelineOptions(flags = [], **options)\n",
    "  if in_test_mode:\n",
    "      RUNNER = 'DirectRunner'\n",
    "  else:\n",
    "      RUNNER = 'DataflowRunner'\n",
    "  \n",
    "  if in_test_mode:\n",
    "    query = \"\"\"\n",
    "      SELECT start_station_id as station, ARRAY_AGG(duration) AS duration_array\n",
    "      FROM `bigquery-public-data.london_bicycles.cycle_hire`\n",
    "      WHERE start_station_id BETWEEN 700 AND 710\n",
    "      GROUP BY start_station_id\n",
    "      \"\"\"\n",
    "  else:\n",
    "     query = \"\"\"\n",
    "      SELECT start_station_id as station, ARRAY_AGG(duration) AS duration_array\n",
    "      FROM `bigquery-public-data.london_bicycles.cycle_hire`\n",
    "      GROUP BY start_station_id\n",
    "      \"\"\"\n",
    "\n",
    "  with beam.Pipeline(RUNNER, options = opts) as p:\n",
    "    (p \n",
    "      | 'read_bq' >> beam.io.Read(beam.io.BigQuerySource(query=query))\n",
    "      | 'compute_fit' >> beam.Map(compute_fit)\n",
    "      | 'write_bq' >> beam.io.gcp.bigquery.WriteToBigQuery(\n",
    "          'ch05.station_stats', schema='station_id:string,ag:FLOAT64,bg:FLOAT64,cg:FLOAT64')\n",
    "    )\n",
    "    \n",
    "run_job() #in_test_mode = False)"
   ]
  },
  {
   "cell_type": "code",
   "execution_count": 38,
   "metadata": {},
   "outputs": [
    {
     "data": {
      "text/plain": [
       "['BigQueryDisposition',\n",
       " 'BigQueryReader',\n",
       " 'BigQuerySink',\n",
       " 'BigQuerySource',\n",
       " 'BigQueryWrapper',\n",
       " 'BigQueryWriter',\n",
       " 'DisplayDataItem',\n",
       " 'GoogleCloudOptions',\n",
       " 'HttpError',\n",
       " 'JSON_COMPLIANCE_ERROR',\n",
       " 'MAX_RETRIES',\n",
       " 'RowAsDictJsonCoder',\n",
       " 'TableRowJsonCoder',\n",
       " '__all__',\n",
       " '__builtins__',\n",
       " '__doc__',\n",
       " '__file__',\n",
       " '__name__',\n",
       " '__package__',\n",
       " '_parse_table_reference',\n",
       " 'absolute_import',\n",
       " 'auth',\n",
       " 'bigquery',\n",
       " 'coders',\n",
       " 'collections',\n",
       " 'dataflow_io',\n",
       " 'datetime',\n",
       " 'from_json_value',\n",
       " 'json',\n",
       " 'logging',\n",
       " 'parse_table_schema_from_json',\n",
       " 're',\n",
       " 'retry',\n",
       " 'time',\n",
       " 'to_json_value',\n",
       " 'uuid']"
      ]
     },
     "execution_count": 38,
     "metadata": {},
     "output_type": "execute_result"
    }
   ],
   "source": [
    "dir(beam.io.gcp.bigquery)"
   ]
  },
  {
   "cell_type": "code",
   "execution_count": null,
   "metadata": {},
   "outputs": [],
   "source": []
  }
 ],
 "metadata": {
  "kernelspec": {
   "display_name": "Python 3",
   "language": "python",
   "name": "python3"
  },
  "language_info": {
   "codemirror_mode": {
    "name": "ipython",
    "version": 3
   },
   "file_extension": ".py",
   "mimetype": "text/x-python",
   "name": "python",
   "nbconvert_exporter": "python",
   "pygments_lexer": "ipython3",
   "version": "3.5.6"
  }
 },
 "nbformat": 4,
 "nbformat_minor": 2
}
